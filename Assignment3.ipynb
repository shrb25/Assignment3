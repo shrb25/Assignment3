{
 "cells": [
  {
   "cell_type": "raw",
   "id": "ad421ea5-1ca6-4f09-9380-626d78dcf2af",
   "metadata": {},
   "source": [
    "#1. What is the difference between a function and a method in Python?\n",
    "The main difference between function and method in python is that function are independent while method is associated with class and object.\n",
    "functions are block of code that performs a specific function and are not dependent on a class or object. Whereas method in class are a block of code that performs a specific task and are associated with a particular class or object.\n",
    "#2. Explain the concept of function arguments and parameters in Python.\n",
    "Parameters are placeholders to data that a function will use while arguments are actual values passed to a function when it is called.\n",
    "#3.What are the different ways to define and call a function in Python?\n",
    "To define a function use the def keyword followed by function name , parantheses and function body. def function_name():function body. To call a function we write functions name and parantheses. function_name()\n",
    "#4.What is the purpose of the `return` statement in a Python function?\n",
    " return statement in python is used inside a function to return a value to the function. eg: def function_name(): return value.\n",
    "#5. What are iterators in Python and how do they differ from iterables?\n",
    "Iterators in python are a stream of data that takes input and generate the data one by one. It ised to iterate through iterables.Iterables are functions that can be iterated through iteration or that can be accessed in a for loop or while loop. Eg: tuples,list etc.\n",
    "iter_list=iter[\"mango\",\"apple\",\"guava\"]\n",
    "print(next(iter_list))\n",
    "print(next(iter_list))\n",
    "print(next(iter_list))\n",
    "mango\n",
    "apple\n",
    "guava\n",
    "#6. Explain the concept of generators in Python and how they are defined.\n",
    "Generators are used to create iterator object with yield keyword and functions instead of returning values in a function.\n",
    "def sq_num(n):\n",
    "   for i in range(n)\n",
    "      yield i ** 2\n",
    "gen=sq_num(10)\n",
    "gen\n",
    "next(gen)\n",
    "#7.What are the advantages of using generators over regular functions?\n",
    "nlike the return statement, which exits the function, yield returns a value and pauses the function’s state, allowing it to resume from where it left off.\n",
    "On-Demand Data: Generators produce values one at a time and only when required, avoiding the need to generate or store all values upfront.Since values are generated as needed and not all at once, generators use minimal memory.\n",
    "#8.What is a lambda function in Python and when is it typically used?\n",
    "Lambda in python are small anonymous functions which are used to create fucntions that take very small space in memory. They are small throw away functions which does not use def keyword like while creating a fucntion. They are defined using lambda keyword. They contain only one expression which is evaluated and returned.\n",
    "sq_num= lamda x:x*x\n",
    "print(sq_num(5))\n",
    "#9.Explain the purpose and usage of the `map()` function in Python.\n",
    "It maps a given function to a a particular iterable like list or tuples and returns an iterator with the result.\n",
    "numbers=[1,2,3,4]\n",
    "sq=map(lambda x: x*x,numbers)\n",
    "print(list(sq))\n",
    "#10. What is the difference between `map()`, `reduce()`, and `filter()` functions in Python?\n",
    "map() function is used to map a fucntion to an iterable like list,tuple creating an iterator object. reduce() function is present in library functools and is used to reduce the members of an iterable returning a single value. it always takes two values at a time. filter() function is used to filter put values in an iterable like even numbers out of a list or odd numbers out of a list based on a particular condition.\n",
    "#11.Using pen & Paper write the internal mechanism for sum operation using  reduce function on this given\n",
    "list:[47,11,42,13]; \n",
    "l=[47,11,42,13]\n",
    "sum_value=reduce(lambda x,y:x+y,l)\n",
    "print(list(sum_value))\n",
    "\n"
   ]
  },
  {
   "cell_type": "code",
   "execution_count": 7,
   "id": "13363eef-ae7b-441e-b0ce-ec65265ff932",
   "metadata": {},
   "outputs": [
    {
     "data": {
      "text/plain": [
       "[2, 4, 6]"
      ]
     },
     "execution_count": 7,
     "metadata": {},
     "output_type": "execute_result"
    }
   ],
   "source": [
    "#1. Write a Python function that takes a list of numbers as input and returns the sum of all even numbers in\n",
    "#the list.\n",
    "def func(a):\n",
    "   l=[]\n",
    "   for i in a:\n",
    "       if i%2==0:\n",
    "           l.append(i)\n",
    "   return l\n",
    "\n",
    "func([1,2,3,4,5,6])\n",
    " "
   ]
  },
  {
   "cell_type": "code",
   "execution_count": 10,
   "id": "467324b1-eb25-4e43-a5c1-328f695e3f8f",
   "metadata": {},
   "outputs": [
    {
     "data": {
      "text/plain": [
       "'iturhs'"
      ]
     },
     "execution_count": 10,
     "metadata": {},
     "output_type": "execute_result"
    }
   ],
   "source": [
    "#2.. Create a Python function that accepts a string and returns the reverse of that string.\n",
    "def reverse_str(a):\n",
    "    rev_str=\"\"\n",
    "    count=len(a)\n",
    "    while count>0:\n",
    "        rev_str=rev_str+a[count-1]\n",
    "        count=count-1\n",
    "    return rev_str\n",
    "\n",
    "reverse_str(\"shruti\")\n",
    "        "
   ]
  },
  {
   "cell_type": "code",
   "execution_count": 15,
   "id": "1226208d-a89d-4f7d-a1d3-cb6f847e2332",
   "metadata": {},
   "outputs": [
    {
     "data": {
      "text/plain": [
       "[1, 4]"
      ]
     },
     "execution_count": 15,
     "metadata": {},
     "output_type": "execute_result"
    }
   ],
   "source": [
    "#3. Implement a Python function that takes a list of integers and returns a new list containing the squares of\n",
    "#each number.\n",
    "def sq_num(a):\n",
    "    l=[]\n",
    "    for i in a:\n",
    "        i=i*i\n",
    "        l.append(i)\n",
    "    return l\n",
    "\n",
    "sq_num([1,2])\n",
    "\n"
   ]
  },
  {
   "cell_type": "code",
   "execution_count": 33,
   "id": "20329ff5-1363-4814-99a4-23f50b3f7f8a",
   "metadata": {},
   "outputs": [
    {
     "name": "stdin",
     "output_type": "stream",
     "text": [
      "enter any number from 1 to 200 5\n"
     ]
    },
    {
     "name": "stdout",
     "output_type": "stream",
     "text": [
      "5 is a prime number\n"
     ]
    }
   ],
   "source": [
    "#4. Write a Python function that checks if a given number is prime or not from 1 to 200\n",
    "def is_prime():\n",
    "    a=int(input(\"enter any number from 1 to 200\"))\n",
    "    flag=False\n",
    "    if (a==0 or a==1):\n",
    "            print(a,\"is not a prime number\")\n",
    "    elif a>1:\n",
    "        for i in range(2,a):\n",
    "                if a%i==0:\n",
    "                    flag=True\n",
    "                    break\n",
    "    if flag:\n",
    "        print(a,\"is not a prime number\")\n",
    "    else:\n",
    "        print(a,\"is a prime number\")\n",
    "\n",
    "is_prime() \n",
    "            \n"
   ]
  },
  {
   "cell_type": "code",
   "execution_count": 9,
   "id": "74390c3d-6172-4143-909e-74913c49e3ad",
   "metadata": {},
   "outputs": [
    {
     "data": {
      "text/plain": [
       "0"
      ]
     },
     "execution_count": 9,
     "metadata": {},
     "output_type": "execute_result"
    }
   ],
   "source": [
    "#5. Create an iterator class in Python that generates the Fibonacci sequence up to a specified number of\n",
    "#terms.\n",
    "def fib(n):\n",
    "    a=0\n",
    "    b=1\n",
    "    for i in range(n):\n",
    "        yield a\n",
    "        a,b=b,a+b\n",
    "\n",
    "f=fib(100)\n",
    "next(f)"
   ]
  },
  {
   "cell_type": "code",
   "execution_count": 11,
   "id": "c8eb7549-6012-4f1a-bd00-0d4417a1c2e0",
   "metadata": {},
   "outputs": [
    {
     "data": {
      "text/plain": [
       "<generator object pow at 0x000002706B5357D0>"
      ]
     },
     "execution_count": 11,
     "metadata": {},
     "output_type": "execute_result"
    }
   ],
   "source": [
    "#6.Write a generator function in Python that yields the powers of 2 up to a given exponent.\n",
    "def pow(n):\n",
    "    for i in range(n):\n",
    "        yield i ** 2\n",
    "\n",
    "a=pow(10)\n",
    "a"
   ]
  },
  {
   "cell_type": "code",
   "execution_count": 1,
   "id": "4521d527-c8e2-4757-b789-317916a55cb1",
   "metadata": {},
   "outputs": [
    {
     "data": {
      "text/plain": [
       "[('abc', 80), ('fgh', 82), ('def', 90)]"
      ]
     },
     "execution_count": 1,
     "metadata": {},
     "output_type": "execute_result"
    }
   ],
   "source": [
    "#7. Implement a generator function that reads a file line by line and yields each line as a string.\n",
    "#8.Use a lambda function in Python to sort a list of tuples based on the second element of each tuple.\n",
    "student_marks=[(\"abc\",80),(\"def\",90),(\"fgh\",82)]\n",
    "sorted(student_marks,key=lambda x:x[1])\n"
   ]
  },
  {
   "cell_type": "code",
   "execution_count": 2,
   "id": "08a137f9-9ec8-4fef-896c-09eb7d8d7d24",
   "metadata": {},
   "outputs": [
    {
     "data": {
      "text/plain": [
       "[125.6, 95.0, 154.4, 210.2]"
      ]
     },
     "execution_count": 2,
     "metadata": {},
     "output_type": "execute_result"
    }
   ],
   "source": [
    "#9.Write a Python program that uses `map()` to convert a list of temperatures from Celsius to Fahrenheit.\n",
    "l=[52,35,68,99]\n",
    "list(map(lambda x: (x*9/5)+32,l))"
   ]
  },
  {
   "cell_type": "code",
   "execution_count": 10,
   "id": "4e61794e-2b55-45b2-9a20-8e2b7828609a",
   "metadata": {},
   "outputs": [
    {
     "data": {
      "text/plain": [
       "['s', 'h', 'r', 't']"
      ]
     },
     "execution_count": 10,
     "metadata": {},
     "output_type": "execute_result"
    }
   ],
   "source": [
    "#10. Create a Python program that uses `filter()` to remove all the vowels from a given string.\n",
    "string=\"shruti\"\n",
    "vowels=[\"A\",\"E\",\"I\",\"O\",\"U\",\"a\",\"e\",\"i\",\"o\",\"u\"]\n",
    "list(filter(lambda string1:string1 not in vowels ,string)) "
   ]
  },
  {
   "cell_type": "code",
   "execution_count": null,
   "id": "ad525cd0-ae1f-490d-8d02-0b71230e651a",
   "metadata": {},
   "outputs": [],
   "source": []
  }
 ],
 "metadata": {
  "kernelspec": {
   "display_name": "Python 3 (ipykernel)",
   "language": "python",
   "name": "python3"
  },
  "language_info": {
   "codemirror_mode": {
    "name": "ipython",
    "version": 3
   },
   "file_extension": ".py",
   "mimetype": "text/x-python",
   "name": "python",
   "nbconvert_exporter": "python",
   "pygments_lexer": "ipython3",
   "version": "3.12.7"
  }
 },
 "nbformat": 4,
 "nbformat_minor": 5
}
